{
 "cells": [
  {
   "cell_type": "code",
   "execution_count": 3,
   "metadata": {},
   "outputs": [],
   "source": [
    "import os\n",
    "import json\n",
    "import gzip\n",
    "import pandas as pd\n",
    "import numpy as np\n",
    "import matplotlib.pyplot as plt\n",
    "from sklearn.utils import shuffle\n",
    "import random\n",
    "import string\n",
    "from sklearn import linear_model\n",
    "from sklearn.feature_extraction.text import TfidfVectorizer\n",
    "from sklearn.feature_extraction.text import CountVectorizer\n",
    "from sklearn.svm import LinearSVC\n",
    "import tensorflow as tf\n",
    "import tensorflow_hub as hub\n",
    "import copy\n",
    "import warnings\n",
    "warnings.filterwarnings('ignore')"
   ]
  },
  {
   "cell_type": "code",
   "execution_count": 4,
   "metadata": {
    "scrolled": true
   },
   "outputs": [
    {
     "name": "stdout",
     "output_type": "stream",
     "text": [
      "Length of data: 2565349\n",
      "First row of the list: {'overall': 1.0, 'verified': True, 'reviewTime': '06 9, 2014', 'reviewerID': 'A21ROB4YDOZA5P', 'asin': '0439381673', 'reviewerName': 'Mary M. Clark', 'reviewText': 'I used to play this game years ago and loved it. I found this did not work on my computer even though it said it would work with Windows 7.', 'summary': 'Did not like this', 'unixReviewTime': 1402272000}\n"
     ]
    }
   ],
   "source": [
    "# Load the data\n",
    "data = []\n",
    "with gzip.open('video.json.gz',\"rb\") as f:\n",
    "    for l in f:\n",
    "        data.append(json.loads(l.strip()))\n",
    "print(f\"Length of data: {len(data)}\")\n",
    "print(f\"First row of the list: {data[0]}\")"
   ]
  },
  {
   "cell_type": "code",
   "execution_count": 5,
   "metadata": {},
   "outputs": [
    {
     "data": {
      "text/html": [
       "<div>\n",
       "<style scoped>\n",
       "    .dataframe tbody tr th:only-of-type {\n",
       "        vertical-align: middle;\n",
       "    }\n",
       "\n",
       "    .dataframe tbody tr th {\n",
       "        vertical-align: top;\n",
       "    }\n",
       "\n",
       "    .dataframe thead th {\n",
       "        text-align: right;\n",
       "    }\n",
       "</style>\n",
       "<table border=\"1\" class=\"dataframe\">\n",
       "  <thead>\n",
       "    <tr style=\"text-align: right;\">\n",
       "      <th></th>\n",
       "      <th>overall</th>\n",
       "      <th>verified</th>\n",
       "      <th>reviewTime</th>\n",
       "      <th>reviewerID</th>\n",
       "      <th>asin</th>\n",
       "      <th>reviewerName</th>\n",
       "      <th>reviewText</th>\n",
       "      <th>summary</th>\n",
       "      <th>unixReviewTime</th>\n",
       "      <th>vote</th>\n",
       "      <th>style</th>\n",
       "      <th>image</th>\n",
       "    </tr>\n",
       "  </thead>\n",
       "  <tbody>\n",
       "    <tr>\n",
       "      <th>0</th>\n",
       "      <td>1.0</td>\n",
       "      <td>True</td>\n",
       "      <td>06 9, 2014</td>\n",
       "      <td>A21ROB4YDOZA5P</td>\n",
       "      <td>0439381673</td>\n",
       "      <td>Mary M. Clark</td>\n",
       "      <td>I used to play this game years ago and loved i...</td>\n",
       "      <td>Did not like this</td>\n",
       "      <td>1402272000</td>\n",
       "      <td>NaN</td>\n",
       "      <td>NaN</td>\n",
       "      <td>NaN</td>\n",
       "    </tr>\n",
       "    <tr>\n",
       "      <th>1</th>\n",
       "      <td>3.0</td>\n",
       "      <td>True</td>\n",
       "      <td>05 10, 2014</td>\n",
       "      <td>A3TNZ2Q5E7HTHD</td>\n",
       "      <td>0439381673</td>\n",
       "      <td>Sarabatya</td>\n",
       "      <td>The game itself worked great but the story lin...</td>\n",
       "      <td>Almost Perfect</td>\n",
       "      <td>1399680000</td>\n",
       "      <td>NaN</td>\n",
       "      <td>NaN</td>\n",
       "      <td>NaN</td>\n",
       "    </tr>\n",
       "    <tr>\n",
       "      <th>2</th>\n",
       "      <td>4.0</td>\n",
       "      <td>True</td>\n",
       "      <td>02 7, 2014</td>\n",
       "      <td>A1OKRM3QFEATQO</td>\n",
       "      <td>0439381673</td>\n",
       "      <td>Amazon Customer</td>\n",
       "      <td>I had to learn the hard way after ordering thi...</td>\n",
       "      <td>DOES NOT WORK WITH MAC OS unless it is 10.3 or...</td>\n",
       "      <td>1391731200</td>\n",
       "      <td>15</td>\n",
       "      <td>NaN</td>\n",
       "      <td>NaN</td>\n",
       "    </tr>\n",
       "    <tr>\n",
       "      <th>3</th>\n",
       "      <td>1.0</td>\n",
       "      <td>True</td>\n",
       "      <td>02 7, 2014</td>\n",
       "      <td>A2XO1JFCNEYV3T</td>\n",
       "      <td>0439381673</td>\n",
       "      <td>ColoradoPartyof5</td>\n",
       "      <td>The product description should state this clea...</td>\n",
       "      <td>does not work on Mac OSX</td>\n",
       "      <td>1391731200</td>\n",
       "      <td>11</td>\n",
       "      <td>NaN</td>\n",
       "      <td>NaN</td>\n",
       "    </tr>\n",
       "    <tr>\n",
       "      <th>4</th>\n",
       "      <td>4.0</td>\n",
       "      <td>True</td>\n",
       "      <td>01 16, 2014</td>\n",
       "      <td>A19WLPIRHD15TH</td>\n",
       "      <td>0439381673</td>\n",
       "      <td>Karen Robinson</td>\n",
       "      <td>I would recommend this learning game for anyon...</td>\n",
       "      <td>Roughing it</td>\n",
       "      <td>1389830400</td>\n",
       "      <td>NaN</td>\n",
       "      <td>NaN</td>\n",
       "      <td>NaN</td>\n",
       "    </tr>\n",
       "  </tbody>\n",
       "</table>\n",
       "</div>"
      ],
      "text/plain": [
       "   overall  verified   reviewTime      reviewerID        asin  \\\n",
       "0      1.0      True   06 9, 2014  A21ROB4YDOZA5P  0439381673   \n",
       "1      3.0      True  05 10, 2014  A3TNZ2Q5E7HTHD  0439381673   \n",
       "2      4.0      True   02 7, 2014  A1OKRM3QFEATQO  0439381673   \n",
       "3      1.0      True   02 7, 2014  A2XO1JFCNEYV3T  0439381673   \n",
       "4      4.0      True  01 16, 2014  A19WLPIRHD15TH  0439381673   \n",
       "\n",
       "       reviewerName                                         reviewText  \\\n",
       "0     Mary M. Clark  I used to play this game years ago and loved i...   \n",
       "1         Sarabatya  The game itself worked great but the story lin...   \n",
       "2   Amazon Customer  I had to learn the hard way after ordering thi...   \n",
       "3  ColoradoPartyof5  The product description should state this clea...   \n",
       "4    Karen Robinson  I would recommend this learning game for anyon...   \n",
       "\n",
       "                                             summary  unixReviewTime vote  \\\n",
       "0                                  Did not like this      1402272000  NaN   \n",
       "1                                     Almost Perfect      1399680000  NaN   \n",
       "2  DOES NOT WORK WITH MAC OS unless it is 10.3 or...      1391731200   15   \n",
       "3                           does not work on Mac OSX      1391731200   11   \n",
       "4                                        Roughing it      1389830400  NaN   \n",
       "\n",
       "  style image  \n",
       "0   NaN   NaN  \n",
       "1   NaN   NaN  \n",
       "2   NaN   NaN  \n",
       "3   NaN   NaN  \n",
       "4   NaN   NaN  "
      ]
     },
     "execution_count": 5,
     "metadata": {},
     "output_type": "execute_result"
    }
   ],
   "source": [
    "# Convert the list into pandas dataframe\n",
    "df = pd.DataFrame(data)\n",
    "df.head()"
   ]
  },
  {
   "cell_type": "code",
   "execution_count": 6,
   "metadata": {},
   "outputs": [],
   "source": [
    "# Convert reviewTime column to pandas datetime format\n",
    "df.reviewTime = pd.to_datetime(df.reviewTime)"
   ]
  },
  {
   "cell_type": "code",
   "execution_count": 7,
   "metadata": {},
   "outputs": [
    {
     "data": {
      "text/plain": [
       "verified\n",
       "False    3.766244\n",
       "True     4.103124\n",
       "Name: overall, dtype: float64"
      ]
     },
     "execution_count": 7,
     "metadata": {},
     "output_type": "execute_result"
    }
   ],
   "source": [
    "df.groupby('verified').overall.mean()"
   ]
  },
  {
   "cell_type": "markdown",
   "metadata": {},
   "source": [
    "We find that verified review tends to have higher rating than average. Now, we make a plot for the distribution of ratings, verified and unverified."
   ]
  },
  {
   "cell_type": "code",
   "execution_count": 8,
   "metadata": {},
   "outputs": [
    {
     "data": {
      "image/png": "[encoded data removed]",
      "text/plain": [
       "<Figure size 640x480 with 1 Axes>"
      ]
     },
     "metadata": {},
     "output_type": "display_data"
    }
   ],
   "source": [
    "(pd.concat([df.loc[df.verified].overall.value_counts().to_frame().rename({'overall': 'verified'}, axis=1), \n",
    "    df.loc[~df.verified].overall.value_counts().to_frame().rename({'overall': 'unverified'}, axis=1)], axis=1)\n",
    "    .plot(kind='barh', title = 'Distribution of ratings', xlabel='Count', ylabel='rating'));"
   ]
  },
  {
   "cell_type": "code",
   "execution_count": 9,
   "metadata": {},
   "outputs": [
    {
     "data": {
      "text/plain": [
       "0          2014\n",
       "1          2014\n",
       "2          2014\n",
       "3          2014\n",
       "4          2014\n",
       "           ... \n",
       "2565344    2018\n",
       "2565345    2018\n",
       "2565346    2018\n",
       "2565347    2018\n",
       "2565348    2018\n",
       "Name: reviewTime, Length: 2565349, dtype: int64"
      ]
     },
     "execution_count": 9,
     "metadata": {},
     "output_type": "execute_result"
    }
   ],
   "source": [
    "df.reviewTime.apply(lambda x: x.year)"
   ]
  },
  {
   "cell_type": "markdown",
   "metadata": {},
   "source": [
    "From the plot, we can find that verified and unverified reviews have similar amounts of 1 and 2 star ratings. Verified reviews tend to have slightly more 3 and 4 star ratings and have significantly more 5 star rating than unverified reviews"
   ]
  },
  {
   "cell_type": "markdown",
   "metadata": {},
   "source": [
    "Let's also investigate the relationship between review time and rating."
   ]
  },
  {
   "cell_type": "code",
   "execution_count": 10,
   "metadata": {},
   "outputs": [
    {
     "data": {
      "image/png": "[encoded data removed]",
      "text/plain": [
       "<Figure size 640x480 with 1 Axes>"
      ]
     },
     "metadata": {},
     "output_type": "display_data"
    }
   ],
   "source": [
    "df.groupby('reviewTime').overall.mean().plot(title = 'Rating distribution by year');"
   ]
  },
  {
   "cell_type": "code",
   "execution_count": 29,
   "metadata": {},
   "outputs": [
    {
     "data": {
      "image/png": "[encoded data removed]",
      "text/plain": [
       "<Figure size 640x480 with 1 Axes>"
      ]
     },
     "metadata": {},
     "output_type": "display_data"
    }
   ],
   "source": [
    "df.assign(year = df.reviewTime.apply(lambda x: x.year)).groupby('year').overall.mean().plot(title = 'Average rating by year');"
   ]
  },
  {
   "cell_type": "markdown",
   "metadata": {},
   "source": [
    "According to the plot, there does not exist a seemingly linear correlation between review time and average rating. However, annual average rating does fluctuate a lot. The average rating started to decrease overall since 1999, which is the earliest time in the dataset, reached the bottom in about 2006, and started to rised until 2015."
   ]
  },
  {
   "cell_type": "markdown",
   "metadata": {},
   "source": [
    "# Data Preprocessing"
   ]
  },
  {
   "cell_type": "code",
   "execution_count": 12,
   "metadata": {},
   "outputs": [],
   "source": [
    "df = shuffle(df)\n",
    "train = df.iloc[:int(df.shape[0]*4/5)]\n",
    "test = df.iloc[int(df.shape[0]*4/5):]\n",
    "train_df = train.sample(100000)\n",
    "test_df = test.sample(20000)\n",
    "\n",
    "def feature(t):\n",
    "    t = str(t)\n",
    "    t = t.lower().strip()\n",
    "    t = [c for c in t if not (c in punct)]\n",
    "    t = ''.join(t) \n",
    "    return t\n",
    "\n",
    "punct = string.punctuation\n",
    "ratings_train = train_df[\"overall\"]\n",
    "reviews_train = train_df[\"reviewText\"].apply(feature)\n",
    "ratings_test = test_df[\"overall\"]\n",
    "reviews_test = test_df[\"reviewText\"].apply(feature)"
   ]
  },
  {
   "cell_type": "code",
   "execution_count": 13,
   "metadata": {},
   "outputs": [],
   "source": [
    "def MSE(pred, true):\n",
    "    return sum(np.square(pred-true))/len(pred)\n",
    "\n",
    "def RMSE(pred, true):\n",
    "    return np.sqrt(sum(np.square(pred-true))/len(pred))"
   ]
  },
  {
   "cell_type": "markdown",
   "metadata": {},
   "source": [
    "We strip all the stopwords and vectorize all review text here. "
   ]
  },
  {
   "cell_type": "markdown",
   "metadata": {},
   "source": [
    "# Baselines"
   ]
  },
  {
   "cell_type": "markdown",
   "metadata": {},
   "source": [
    "Instead of treating ratings as a numerical linear prediction, in this section we will treat ratings as categorical variables on which we can make classification prediction. While ratings of \"5\" could be interpreted as \"highly recommend\", ratings of \"1\" could be interpreted as \"not recommend as at\". "
   ]
  },
  {
   "cell_type": "markdown",
   "metadata": {},
   "source": [
    "We firstly randomly shuffle the data and extract 100000 samples from the first 4/5 of shuffled data as training data while extract 20000 samples of the last 1/5 of shuffled data as test data. We did this as the training time for full data could be extremely long, and as we actually \"randomly filter\" (shuffled() and sample()) twice, we can make sure the distribution of our sampled data is the same as original full data."
   ]
  },
  {
   "cell_type": "markdown",
   "metadata": {},
   "source": [
    "## Baseline Model 1: Plain Regression With Stop Words Removed Rating Classification prediction from reviewText"
   ]
  },
  {
   "cell_type": "code",
   "execution_count": 14,
   "metadata": {},
   "outputs": [],
   "source": [
    "vectorizer= CountVectorizer(analyzer = \"word\", stop_words = \"english\")\n",
    "plain_x_train = vectorizer.fit_transform(reviews_train)\n",
    "plain_x_test = vectorizer.transform(reviews_test)"
   ]
  },
  {
   "cell_type": "code",
   "execution_count": 15,
   "metadata": {},
   "outputs": [],
   "source": [
    "clf_log = linear_model.LogisticRegression(class_weight = \"balanced\")\n",
    "clf_log.fit(plain_x_train,ratings_train)\n",
    "plain_test_log = clf_log.predict(plain_x_test)"
   ]
  },
  {
   "cell_type": "code",
   "execution_count": 16,
   "metadata": {},
   "outputs": [
    {
     "data": {
      "text/plain": [
       "0.5949"
      ]
     },
     "execution_count": 16,
     "metadata": {},
     "output_type": "execute_result"
    }
   ],
   "source": [
    "np.mean(plain_test_log== ratings_test.values)"
   ]
  },
  {
   "cell_type": "code",
   "execution_count": 17,
   "metadata": {
    "scrolled": true
   },
   "outputs": [
    {
     "name": "stdout",
     "output_type": "stream",
     "text": [
      "RMSE for ratings prediction using Plain Regression is 1.1386175828609006\n",
      "MSE for ratings prediction using Plain Regression is 1.29645\n",
      "Accuracy of rating predictions using Plain Regression is 0.5949\n"
     ]
    }
   ],
   "source": [
    "print(\"RMSE for ratings prediction using Plain Regression is {}\".format(RMSE(plain_test_log, ratings_test.values)))\n",
    "print(\"MSE for ratings prediction using Plain Regression is {}\".format(MSE(plain_test_log, ratings_test.values)))\n",
    "print(\"Accuracy of rating predictions using Plain Regression is {}\".format(np.mean(plain_test_log==ratings_test.values)))"
   ]
  },
  {
   "cell_type": "markdown",
   "metadata": {},
   "source": [
    "## Baseline Model 2: SVM With Stop Words Removed Rating Classification prediction from reviewText"
   ]
  },
  {
   "cell_type": "code",
   "execution_count": 18,
   "metadata": {
    "scrolled": true
   },
   "outputs": [
    {
     "data": {
      "text/html": [
       "<style>#sk-container-id-1 {color: black;background-color: white;}#sk-container-id-1 pre{padding: 0;}#sk-container-id-1 div.sk-toggleable {background-color: white;}#sk-container-id-1 label.sk-toggleable__label {cursor: pointer;display: block;width: 100%;margin-bottom: 0;padding: 0.3em;box-sizing: border-box;text-align: center;}#sk-container-id-1 label.sk-toggleable__label-arrow:before {content: \"▸\";float: left;margin-right: 0.25em;color: #696969;}#sk-container-id-1 label.sk-toggleable__label-arrow:hover:before {color: black;}#sk-container-id-1 div.sk-estimator:hover label.sk-toggleable__label-arrow:before {color: black;}#sk-container-id-1 div.sk-toggleable__content {max-height: 0;max-width: 0;overflow: hidden;text-align: left;background-color: #f0f8ff;}#sk-container-id-1 div.sk-toggleable__content pre {margin: 0.2em;color: black;border-radius: 0.25em;background-color: #f0f8ff;}#sk-container-id-1 input.sk-toggleable__control:checked~div.sk-toggleable__content {max-height: 200px;max-width: 100%;overflow: auto;}#sk-container-id-1 input.sk-toggleable__control:checked~label.sk-toggleable__label-arrow:before {content: \"▾\";}#sk-container-id-1 div.sk-estimator input.sk-toggleable__control:checked~label.sk-toggleable__label {background-color: #d4ebff;}#sk-container-id-1 div.sk-label input.sk-toggleable__control:checked~label.sk-toggleable__label {background-color: #d4ebff;}#sk-container-id-1 input.sk-hidden--visually {border: 0;clip: rect(1px 1px 1px 1px);clip: rect(1px, 1px, 1px, 1px);height: 1px;margin: -1px;overflow: hidden;padding: 0;position: absolute;width: 1px;}#sk-container-id-1 div.sk-estimator {font-family: monospace;background-color: #f0f8ff;border: 1px dotted black;border-radius: 0.25em;box-sizing: border-box;margin-bottom: 0.5em;}#sk-container-id-1 div.sk-estimator:hover {background-color: #d4ebff;}#sk-container-id-1 div.sk-parallel-item::after {content: \"\";width: 100%;border-bottom: 1px solid gray;flex-grow: 1;}#sk-container-id-1 div.sk-label:hover label.sk-toggleable__label {background-color: #d4ebff;}#sk-container-id-1 div.sk-serial::before {content: \"\";position: absolute;border-left: 1px solid gray;box-sizing: border-box;top: 0;bottom: 0;left: 50%;z-index: 0;}#sk-container-id-1 div.sk-serial {display: flex;flex-direction: column;align-items: center;background-color: white;padding-right: 0.2em;padding-left: 0.2em;position: relative;}#sk-container-id-1 div.sk-item {position: relative;z-index: 1;}#sk-container-id-1 div.sk-parallel {display: flex;align-items: stretch;justify-content: center;background-color: white;position: relative;}#sk-container-id-1 div.sk-item::before, #sk-container-id-1 div.sk-parallel-item::before {content: \"\";position: absolute;border-left: 1px solid gray;box-sizing: border-box;top: 0;bottom: 0;left: 50%;z-index: -1;}#sk-container-id-1 div.sk-parallel-item {display: flex;flex-direction: column;z-index: 1;position: relative;background-color: white;}#sk-container-id-1 div.sk-parallel-item:first-child::after {align-self: flex-end;width: 50%;}#sk-container-id-1 div.sk-parallel-item:last-child::after {align-self: flex-start;width: 50%;}#sk-container-id-1 div.sk-parallel-item:only-child::after {width: 0;}#sk-container-id-1 div.sk-dashed-wrapped {border: 1px dashed gray;margin: 0 0.4em 0.5em 0.4em;box-sizing: border-box;padding-bottom: 0.4em;background-color: white;}#sk-container-id-1 div.sk-label label {font-family: monospace;font-weight: bold;display: inline-block;line-height: 1.2em;}#sk-container-id-1 div.sk-label-container {text-align: center;}#sk-container-id-1 div.sk-container {/* jupyter's `normalize.less` sets `[hidden] { display: none; }` but bootstrap.min.css set `[hidden] { display: none !important; }` so we also need the `!important` here to be able to override the default hidden behavior on the sphinx rendered scikit-learn.org. See: https://github.com/scikit-learn/scikit-learn/issues/21755 */display: inline-block !important;position: relative;}#sk-container-id-1 div.sk-text-repr-fallback {display: none;}</style><div id=\"sk-container-id-1\" class=\"sk-top-container\"><div class=\"sk-text-repr-fallback\"><pre>LinearSVC(class_weight=&#x27;balanced&#x27;)</pre><b>In a Jupyter environment, please rerun this cell to show the HTML representation or trust the notebook. <br />On GitHub, the HTML representation is unable to render, please try loading this page with nbviewer.org.</b></div><div class=\"sk-container\" hidden><div class=\"sk-item\"><div class=\"sk-estimator sk-toggleable\"><input class=\"sk-toggleable__control sk-hidden--visually\" id=\"sk-estimator-id-1\" type=\"checkbox\" checked><label for=\"sk-estimator-id-1\" class=\"sk-toggleable__label sk-toggleable__label-arrow\">LinearSVC</label><div class=\"sk-toggleable__content\"><pre>LinearSVC(class_weight=&#x27;balanced&#x27;)</pre></div></div></div></div></div>"
      ],
      "text/plain": [
       "LinearSVC(class_weight='balanced')"
      ]
     },
     "execution_count": 18,
     "metadata": {},
     "output_type": "execute_result"
    }
   ],
   "source": [
    "svm_log = LinearSVC(class_weight = \"balanced\")\n",
    "svm_log.fit(plain_x_train,ratings_train)"
   ]
  },
  {
   "cell_type": "code",
   "execution_count": 19,
   "metadata": {},
   "outputs": [],
   "source": [
    "svm_test_log = svm_log.predict(plain_x_test)"
   ]
  },
  {
   "cell_type": "code",
   "execution_count": 20,
   "metadata": {},
   "outputs": [
    {
     "name": "stdout",
     "output_type": "stream",
     "text": [
      "RMSE for ratings prediction using Plain Regression is 1.1613569649336934\n",
      "MSE for ratings prediction using Plain Regression is 1.34875\n",
      "Accuracy of rating predictions using Plain Regression is 0.6275\n"
     ]
    }
   ],
   "source": [
    "print(\"RMSE for ratings prediction using Plain Regression is {}\".format(RMSE(svm_test_log, ratings_test.values)))\n",
    "print(\"MSE for ratings prediction using Plain Regression is {}\".format(MSE(svm_test_log, ratings_test.values)))\n",
    "print(\"Accuracy of rating predictions using Plain Regression is {}\".format(np.mean(svm_test_log==ratings_test.values)))"
   ]
  },
  {
   "cell_type": "markdown",
   "metadata": {},
   "source": [
    "## Baseline Model 3: TFIDF-based Rating Classification prediction from reviewText"
   ]
  },
  {
   "cell_type": "code",
   "execution_count": 21,
   "metadata": {},
   "outputs": [],
   "source": [
    "vectorizer= TfidfVectorizer(analyzer = \"word\", stop_words = \"english\")\n",
    "tf_x_train = vectorizer.fit_transform(reviews_train)\n",
    "tf_x_test = vectorizer.transform(reviews_test)"
   ]
  },
  {
   "cell_type": "code",
   "execution_count": 22,
   "metadata": {},
   "outputs": [],
   "source": [
    "clf_log = linear_model.LogisticRegression(class_weight = \"balanced\")\n",
    "clf_log.fit(tf_x_train,ratings_train)\n",
    "pred_test_log = clf_log.predict(tf_x_test)"
   ]
  },
  {
   "cell_type": "code",
   "execution_count": 23,
   "metadata": {
    "scrolled": true
   },
   "outputs": [
    {
     "data": {
      "text/plain": [
       "0.58085"
      ]
     },
     "execution_count": 23,
     "metadata": {},
     "output_type": "execute_result"
    }
   ],
   "source": [
    "np.mean(pred_test_log== ratings_test.values)"
   ]
  },
  {
   "cell_type": "code",
   "execution_count": 24,
   "metadata": {},
   "outputs": [
    {
     "name": "stdout",
     "output_type": "stream",
     "text": [
      "RMSE for ratings prediction using TFIDF is 1.1606032913963324\n",
      "MSE for ratings prediction using TFIDF is 1.347\n",
      "Accuracy of rating predictions using TFIDF is 0.58085\n"
     ]
    }
   ],
   "source": [
    "print(\"RMSE for ratings prediction using TFIDF is {}\".format(RMSE(pred_test_log, ratings_test.values)))\n",
    "print(\"MSE for ratings prediction using TFIDF is {}\".format(MSE(pred_test_log, ratings_test.values)))\n",
    "print(\"Accuracy of rating predictions using TFIDF is {}\".format(np.mean(pred_test_log==ratings_test.values)))"
   ]
  },
  {
   "cell_type": "markdown",
   "metadata": {},
   "source": [
    "## Baseline Model 4: TFIDF-based Rating Classification prediction from reviewText with SVM"
   ]
  },
  {
   "cell_type": "code",
   "execution_count": 25,
   "metadata": {},
   "outputs": [
    {
     "data": {
      "text/html": [
       "<style>#sk-container-id-2 {color: black;background-color: white;}#sk-container-id-2 pre{padding: 0;}#sk-container-id-2 div.sk-toggleable {background-color: white;}#sk-container-id-2 label.sk-toggleable__label {cursor: pointer;display: block;width: 100%;margin-bottom: 0;padding: 0.3em;box-sizing: border-box;text-align: center;}#sk-container-id-2 label.sk-toggleable__label-arrow:before {content: \"▸\";float: left;margin-right: 0.25em;color: #696969;}#sk-container-id-2 label.sk-toggleable__label-arrow:hover:before {color: black;}#sk-container-id-2 div.sk-estimator:hover label.sk-toggleable__label-arrow:before {color: black;}#sk-container-id-2 div.sk-toggleable__content {max-height: 0;max-width: 0;overflow: hidden;text-align: left;background-color: #f0f8ff;}#sk-container-id-2 div.sk-toggleable__content pre {margin: 0.2em;color: black;border-radius: 0.25em;background-color: #f0f8ff;}#sk-container-id-2 input.sk-toggleable__control:checked~div.sk-toggleable__content {max-height: 200px;max-width: 100%;overflow: auto;}#sk-container-id-2 input.sk-toggleable__control:checked~label.sk-toggleable__label-arrow:before {content: \"▾\";}#sk-container-id-2 div.sk-estimator input.sk-toggleable__control:checked~label.sk-toggleable__label {background-color: #d4ebff;}#sk-container-id-2 div.sk-label input.sk-toggleable__control:checked~label.sk-toggleable__label {background-color: #d4ebff;}#sk-container-id-2 input.sk-hidden--visually {border: 0;clip: rect(1px 1px 1px 1px);clip: rect(1px, 1px, 1px, 1px);height: 1px;margin: -1px;overflow: hidden;padding: 0;position: absolute;width: 1px;}#sk-container-id-2 div.sk-estimator {font-family: monospace;background-color: #f0f8ff;border: 1px dotted black;border-radius: 0.25em;box-sizing: border-box;margin-bottom: 0.5em;}#sk-container-id-2 div.sk-estimator:hover {background-color: #d4ebff;}#sk-container-id-2 div.sk-parallel-item::after {content: \"\";width: 100%;border-bottom: 1px solid gray;flex-grow: 1;}#sk-container-id-2 div.sk-label:hover label.sk-toggleable__label {background-color: #d4ebff;}#sk-container-id-2 div.sk-serial::before {content: \"\";position: absolute;border-left: 1px solid gray;box-sizing: border-box;top: 0;bottom: 0;left: 50%;z-index: 0;}#sk-container-id-2 div.sk-serial {display: flex;flex-direction: column;align-items: center;background-color: white;padding-right: 0.2em;padding-left: 0.2em;position: relative;}#sk-container-id-2 div.sk-item {position: relative;z-index: 1;}#sk-container-id-2 div.sk-parallel {display: flex;align-items: stretch;justify-content: center;background-color: white;position: relative;}#sk-container-id-2 div.sk-item::before, #sk-container-id-2 div.sk-parallel-item::before {content: \"\";position: absolute;border-left: 1px solid gray;box-sizing: border-box;top: 0;bottom: 0;left: 50%;z-index: -1;}#sk-container-id-2 div.sk-parallel-item {display: flex;flex-direction: column;z-index: 1;position: relative;background-color: white;}#sk-container-id-2 div.sk-parallel-item:first-child::after {align-self: flex-end;width: 50%;}#sk-container-id-2 div.sk-parallel-item:last-child::after {align-self: flex-start;width: 50%;}#sk-container-id-2 div.sk-parallel-item:only-child::after {width: 0;}#sk-container-id-2 div.sk-dashed-wrapped {border: 1px dashed gray;margin: 0 0.4em 0.5em 0.4em;box-sizing: border-box;padding-bottom: 0.4em;background-color: white;}#sk-container-id-2 div.sk-label label {font-family: monospace;font-weight: bold;display: inline-block;line-height: 1.2em;}#sk-container-id-2 div.sk-label-container {text-align: center;}#sk-container-id-2 div.sk-container {/* jupyter's `normalize.less` sets `[hidden] { display: none; }` but bootstrap.min.css set `[hidden] { display: none !important; }` so we also need the `!important` here to be able to override the default hidden behavior on the sphinx rendered scikit-learn.org. See: https://github.com/scikit-learn/scikit-learn/issues/21755 */display: inline-block !important;position: relative;}#sk-container-id-2 div.sk-text-repr-fallback {display: none;}</style><div id=\"sk-container-id-2\" class=\"sk-top-container\"><div class=\"sk-text-repr-fallback\"><pre>LinearSVC(class_weight=&#x27;balanced&#x27;)</pre><b>In a Jupyter environment, please rerun this cell to show the HTML representation or trust the notebook. <br />On GitHub, the HTML representation is unable to render, please try loading this page with nbviewer.org.</b></div><div class=\"sk-container\" hidden><div class=\"sk-item\"><div class=\"sk-estimator sk-toggleable\"><input class=\"sk-toggleable__control sk-hidden--visually\" id=\"sk-estimator-id-2\" type=\"checkbox\" checked><label for=\"sk-estimator-id-2\" class=\"sk-toggleable__label sk-toggleable__label-arrow\">LinearSVC</label><div class=\"sk-toggleable__content\"><pre>LinearSVC(class_weight=&#x27;balanced&#x27;)</pre></div></div></div></div></div>"
      ],
      "text/plain": [
       "LinearSVC(class_weight='balanced')"
      ]
     },
     "execution_count": 25,
     "metadata": {},
     "output_type": "execute_result"
    }
   ],
   "source": [
    "svm_tfidf_log = LinearSVC(class_weight = \"balanced\")\n",
    "svm_tfidf_log.fit(tf_x_train,ratings_train)"
   ]
  },
  {
   "cell_type": "code",
   "execution_count": 26,
   "metadata": {},
   "outputs": [],
   "source": [
    "svm_tfidf_test_log = svm_tfidf_log.predict(tf_x_test)"
   ]
  },
  {
   "cell_type": "code",
   "execution_count": 27,
   "metadata": {
    "scrolled": true
   },
   "outputs": [
    {
     "name": "stdout",
     "output_type": "stream",
     "text": [
      "RMSE for ratings prediction using TFIDF is 1.1248110952511092\n",
      "MSE for ratings prediction using TFIDF is 1.2652\n",
      "Accuracy of rating predictions using TFIDF is 0.63415\n"
     ]
    }
   ],
   "source": [
    "print(\"RMSE for ratings prediction using TFIDF is {}\".format(RMSE(svm_tfidf_test_log, ratings_test.values)))\n",
    "print(\"MSE for ratings prediction using TFIDF is {}\".format(MSE(svm_tfidf_test_log, ratings_test.values)))\n",
    "print(\"Accuracy of rating predictions using TFIDF is {}\".format(np.mean(svm_tfidf_test_log==ratings_test.values)))"
   ]
  },
  {
   "cell_type": "markdown",
   "metadata": {},
   "source": [
    "## Baseline Model 5: Linear Regression with word2vec"
   ]
  },
  {
   "cell_type": "code",
   "execution_count": 14,
   "metadata": {},
   "outputs": [],
   "source": [
    "vectorizer= CountVectorizer(analyzer = \"word\", stop_words = \"english\")\n",
    "plain_x_train = vectorizer.fit_transform(reviews_train)\n",
    "plain_x_test = vectorizer.transform(reviews_test)"
   ]
  },
  {
   "cell_type": "code",
   "execution_count": 15,
   "metadata": {},
   "outputs": [],
   "source": [
    "clf_log = linear_model.LogisticRegression(class_weight = \"balanced\")\n",
    "clf_log.fit(plain_x_train,ratings_train)\n",
    "plain_test_log = clf_log.predict(plain_x_test)"
   ]
  },
  {
   "cell_type": "code",
   "execution_count": 16,
   "metadata": {},
   "outputs": [
    {
     "data": {
      "text/plain": [
       "0.5949"
      ]
     },
     "execution_count": 16,
     "metadata": {},
     "output_type": "execute_result"
    }
   ],
   "source": [
    "np.mean(plain_test_log== ratings_test.values)"
   ]
  },
  {
   "cell_type": "code",
   "execution_count": 17,
   "metadata": {
    "scrolled": true
   },
   "outputs": [
    {
     "name": "stdout",
     "output_type": "stream",
     "text": [
      "RMSE for ratings prediction using Plain Regression is 1.1386175828609006\n",
      "MSE for ratings prediction using Plain Regression is 1.29645\n",
      "Accuracy of rating predictions using Plain Regression is 0.5949\n"
     ]
    }
   ],
   "source": [
    "print(\"RMSE for ratings prediction using Plain Regression is {}\".format(RMSE(plain_test_log, ratings_test.values)))\n",
    "print(\"MSE for ratings prediction using Plain Regression is {}\".format(MSE(plain_test_log, ratings_test.values)))\n",
    "print(\"Accuracy of rating predictions using Plain Regression is {}\".format(np.mean(plain_test_log==ratings_test.values)))"
   ]
  },
  {
   "cell_type": "markdown",
   "metadata": {},
   "source": [
    "## Baseline Model 6: SVM with word2vec"
   ]
  },
  {
   "cell_type": "code",
   "execution_count": 69,
   "metadata": {},
   "outputs": [
    {
     "data": {
      "text/plain": [
       "(20000,)"
      ]
     },
     "execution_count": 69,
     "metadata": {},
     "output_type": "execute_result"
    }
   ],
   "source": [
    "cvrtY = convert_back_rating(trainY)\n",
    "cvrtY.shape"
   ]
  },
  {
   "cell_type": "code",
   "execution_count": 71,
   "metadata": {},
   "outputs": [
    {
     "data": {
      "text/html": [
       "<style>#sk-container-id-3 {color: black;background-color: white;}#sk-container-id-3 pre{padding: 0;}#sk-container-id-3 div.sk-toggleable {background-color: white;}#sk-container-id-3 label.sk-toggleable__label {cursor: pointer;display: block;width: 100%;margin-bottom: 0;padding: 0.3em;box-sizing: border-box;text-align: center;}#sk-container-id-3 label.sk-toggleable__label-arrow:before {content: \"▸\";float: left;margin-right: 0.25em;color: #696969;}#sk-container-id-3 label.sk-toggleable__label-arrow:hover:before {color: black;}#sk-container-id-3 div.sk-estimator:hover label.sk-toggleable__label-arrow:before {color: black;}#sk-container-id-3 div.sk-toggleable__content {max-height: 0;max-width: 0;overflow: hidden;text-align: left;background-color: #f0f8ff;}#sk-container-id-3 div.sk-toggleable__content pre {margin: 0.2em;color: black;border-radius: 0.25em;background-color: #f0f8ff;}#sk-container-id-3 input.sk-toggleable__control:checked~div.sk-toggleable__content {max-height: 200px;max-width: 100%;overflow: auto;}#sk-container-id-3 input.sk-toggleable__control:checked~label.sk-toggleable__label-arrow:before {content: \"▾\";}#sk-container-id-3 div.sk-estimator input.sk-toggleable__control:checked~label.sk-toggleable__label {background-color: #d4ebff;}#sk-container-id-3 div.sk-label input.sk-toggleable__control:checked~label.sk-toggleable__label {background-color: #d4ebff;}#sk-container-id-3 input.sk-hidden--visually {border: 0;clip: rect(1px 1px 1px 1px);clip: rect(1px, 1px, 1px, 1px);height: 1px;margin: -1px;overflow: hidden;padding: 0;position: absolute;width: 1px;}#sk-container-id-3 div.sk-estimator {font-family: monospace;background-color: #f0f8ff;border: 1px dotted black;border-radius: 0.25em;box-sizing: border-box;margin-bottom: 0.5em;}#sk-container-id-3 div.sk-estimator:hover {background-color: #d4ebff;}#sk-container-id-3 div.sk-parallel-item::after {content: \"\";width: 100%;border-bottom: 1px solid gray;flex-grow: 1;}#sk-container-id-3 div.sk-label:hover label.sk-toggleable__label {background-color: #d4ebff;}#sk-container-id-3 div.sk-serial::before {content: \"\";position: absolute;border-left: 1px solid gray;box-sizing: border-box;top: 0;bottom: 0;left: 50%;z-index: 0;}#sk-container-id-3 div.sk-serial {display: flex;flex-direction: column;align-items: center;background-color: white;padding-right: 0.2em;padding-left: 0.2em;position: relative;}#sk-container-id-3 div.sk-item {position: relative;z-index: 1;}#sk-container-id-3 div.sk-parallel {display: flex;align-items: stretch;justify-content: center;background-color: white;position: relative;}#sk-container-id-3 div.sk-item::before, #sk-container-id-3 div.sk-parallel-item::before {content: \"\";position: absolute;border-left: 1px solid gray;box-sizing: border-box;top: 0;bottom: 0;left: 50%;z-index: -1;}#sk-container-id-3 div.sk-parallel-item {display: flex;flex-direction: column;z-index: 1;position: relative;background-color: white;}#sk-container-id-3 div.sk-parallel-item:first-child::after {align-self: flex-end;width: 50%;}#sk-container-id-3 div.sk-parallel-item:last-child::after {align-self: flex-start;width: 50%;}#sk-container-id-3 div.sk-parallel-item:only-child::after {width: 0;}#sk-container-id-3 div.sk-dashed-wrapped {border: 1px dashed gray;margin: 0 0.4em 0.5em 0.4em;box-sizing: border-box;padding-bottom: 0.4em;background-color: white;}#sk-container-id-3 div.sk-label label {font-family: monospace;font-weight: bold;display: inline-block;line-height: 1.2em;}#sk-container-id-3 div.sk-label-container {text-align: center;}#sk-container-id-3 div.sk-container {/* jupyter's `normalize.less` sets `[hidden] { display: none; }` but bootstrap.min.css set `[hidden] { display: none !important; }` so we also need the `!important` here to be able to override the default hidden behavior on the sphinx rendered scikit-learn.org. See: https://github.com/scikit-learn/scikit-learn/issues/21755 */display: inline-block !important;position: relative;}#sk-container-id-3 div.sk-text-repr-fallback {display: none;}</style><div id=\"sk-container-id-3\" class=\"sk-top-container\"><div class=\"sk-text-repr-fallback\"><pre>LinearSVC(class_weight=&#x27;balanced&#x27;)</pre><b>In a Jupyter environment, please rerun this cell to show the HTML representation or trust the notebook. <br />On GitHub, the HTML representation is unable to render, please try loading this page with nbviewer.org.</b></div><div class=\"sk-container\" hidden><div class=\"sk-item\"><div class=\"sk-estimator sk-toggleable\"><input class=\"sk-toggleable__control sk-hidden--visually\" id=\"sk-estimator-id-3\" type=\"checkbox\" checked><label for=\"sk-estimator-id-3\" class=\"sk-toggleable__label sk-toggleable__label-arrow\">LinearSVC</label><div class=\"sk-toggleable__content\"><pre>LinearSVC(class_weight=&#x27;balanced&#x27;)</pre></div></div></div></div></div>"
      ],
      "text/plain": [
       "LinearSVC(class_weight='balanced')"
      ]
     },
     "execution_count": 71,
     "metadata": {},
     "output_type": "execute_result"
    }
   ],
   "source": [
    "svm_tfidf_log = LinearSVC(class_weight = \"balanced\")\n",
    "svm_tfidf_log.fit(trainX.reshape(20000,-1), cvrtY)"
   ]
  },
  {
   "cell_type": "code",
   "execution_count": 73,
   "metadata": {},
   "outputs": [],
   "source": [
    "svm_tfidf_test_log = svm_tfidf_log.predict(testX.reshape(10000,-1))"
   ]
  },
  {
   "cell_type": "code",
   "execution_count": 74,
   "metadata": {},
   "outputs": [
    {
     "name": "stdout",
     "output_type": "stream",
     "text": [
      "RMSE for ratings prediction using Plain Regression is 1.5979987484350542\n",
      "MSE for ratings prediction using Plain Regression is 2.5536\n",
      "Accuracy of rating predictions using Plain Regression is 0.5125\n"
     ]
    }
   ],
   "source": [
    "print(\"RMSE for ratings prediction using Plain Regression is {}\".format(RMSE(svm_tfidf_test_log, actual)))\n",
    "print(\"MSE for ratings prediction using Plain Regression is {}\".format(MSE(svm_tfidf_test_log, actual)))\n",
    "print(\"Accuracy of rating predictions using Plain Regression is {}\".format(np.mean(svm_tfidf_test_log==actual)))"
   ]
  },
  {
   "cell_type": "markdown",
   "metadata": {},
   "source": [
    "## Model 2: LSTM with word2vec for rating prediction"
   ]
  },
  {
   "cell_type": "markdown",
   "metadata": {},
   "source": [
    "Since we only prediction rating through reviews text, we would use LSTM based on word2vec encoding for rating prediction. Instead of training a encoder by ourself, we would use the word2vec model from tensoflow hub website, the links is below."
   ]
  },
  {
   "cell_type": "code",
   "execution_count": 75,
   "metadata": {},
   "outputs": [],
   "source": [
    "word2vec= hub.load(\"https://tfhub.dev/google/Wiki-words-250/2\")"
   ]
  },
  {
   "cell_type": "code",
   "execution_count": 94,
   "metadata": {},
   "outputs": [
    {
     "data": {
      "image/png": "[encoded data removed]",
      "text/plain": [
       "<Figure size 640x480 with 1 Axes>"
      ]
     },
     "metadata": {},
     "output_type": "display_data"
    }
   ],
   "source": [
    "train_df = train.sample(100000)\n",
    "plt.hist(train_df[\"reviewText\"].apply(feature).apply(lambda x:len(x.split(\" \"))), bins = 200)\n",
    "plt.xlabel(\"review word counts\")\n",
    "plt.ylabel(\"Count\")\n",
    "plt.axvline(100,color=\"red\")\n",
    "plt.show()"
   ]
  },
  {
   "cell_type": "markdown",
   "metadata": {},
   "source": [
    "As we can see in the above histogram, most reviews words count are within 200, so we would using 200 as the length of our encoded vector. "
   ]
  },
  {
   "cell_type": "code",
   "execution_count": 86,
   "metadata": {},
   "outputs": [],
   "source": [
    "def encode(reviews):\n",
    "    result = []\n",
    "    for txt in reviews:\n",
    "        encoded = word2vec(str(txt).split(\" \")[:100])\n",
    "        pad_len = 100 - encoded.shape[0]\n",
    "        unit = np.zeros((1, 250))\n",
    "        for i in range(pad_len):\n",
    "            encoded = np.concatenate((unit, encoded), axis=0)\n",
    "        result.append(encoded)\n",
    "    return result\n",
    "\n",
    "def rating_encode(rating):\n",
    "    arr = [0,0,0,0,0]\n",
    "    arr[int(rating)-1] = 1\n",
    "    return arr\n",
    "\n",
    "def getXY(df):\n",
    "    reviews = df['reviewText'].tolist()\n",
    "    encoding = encode(reviews)\n",
    "    X = np.array(encoding)\n",
    "    ratings = df[\"overall\"].astype(int).tolist()\n",
    "    encoded_ratings = [rating_encode(i) for i in ratings]\n",
    "    Y = np.array(encoded_ratings)\n",
    "    return X,Y"
   ]
  },
  {
   "cell_type": "code",
   "execution_count": 87,
   "metadata": {},
   "outputs": [],
   "source": [
    "trainX,trainY = getXY(train_df)"
   ]
  },
  {
   "cell_type": "code",
   "execution_count": 88,
   "metadata": {},
   "outputs": [
    {
     "name": "stdout",
     "output_type": "stream",
     "text": [
      "Epoch 1/50\n",
      "3125/3125 [==============================] - 39s 12ms/step - loss: 1.1028 - accuracy: 0.5925\n",
      "Epoch 2/50\n",
      "3125/3125 [==============================] - 37s 12ms/step - loss: 1.0171 - accuracy: 0.6172\n",
      "Epoch 3/50\n",
      "3125/3125 [==============================] - 37s 12ms/step - loss: 0.9848 - accuracy: 0.6280\n",
      "Epoch 4/50\n",
      "3125/3125 [==============================] - 36s 12ms/step - loss: 0.9610 - accuracy: 0.6356\n",
      "Epoch 5/50\n",
      "3125/3125 [==============================] - 36s 12ms/step - loss: 0.9432 - accuracy: 0.6429\n",
      "Epoch 6/50\n",
      "3125/3125 [==============================] - 36s 12ms/step - loss: 0.9280 - accuracy: 0.6487\n",
      "Epoch 7/50\n",
      "3125/3125 [==============================] - 36s 12ms/step - loss: 0.9156 - accuracy: 0.6536\n",
      "Epoch 8/50\n",
      "3125/3125 [==============================] - 36s 12ms/step - loss: 0.9065 - accuracy: 0.6559\n",
      "Epoch 9/50\n",
      "3125/3125 [==============================] - 37s 12ms/step - loss: 0.8978 - accuracy: 0.6592\n",
      "Epoch 10/50\n",
      "3125/3125 [==============================] - 36s 11ms/step - loss: 0.8868 - accuracy: 0.6639\n",
      "Epoch 11/50\n",
      "3125/3125 [==============================] - 35s 11ms/step - loss: 0.8810 - accuracy: 0.6647\n",
      "Epoch 12/50\n",
      "3125/3125 [==============================] - 37s 12ms/step - loss: 0.8743 - accuracy: 0.6675\n",
      "Epoch 13/50\n",
      "3125/3125 [==============================] - 37s 12ms/step - loss: 0.8675 - accuracy: 0.6697\n",
      "Epoch 14/50\n",
      "3125/3125 [==============================] - 36s 11ms/step - loss: 0.8616 - accuracy: 0.6728\n",
      "Epoch 15/50\n",
      "3125/3125 [==============================] - 37s 12ms/step - loss: 0.8564 - accuracy: 0.6740\n",
      "Epoch 16/50\n",
      "3125/3125 [==============================] - 38s 12ms/step - loss: 0.8493 - accuracy: 0.6770\n",
      "Epoch 17/50\n",
      "3125/3125 [==============================] - 38s 12ms/step - loss: 0.8470 - accuracy: 0.6765\n",
      "Epoch 18/50\n",
      "3125/3125 [==============================] - 37s 12ms/step - loss: 0.8419 - accuracy: 0.6781\n",
      "Epoch 19/50\n",
      "3125/3125 [==============================] - 37s 12ms/step - loss: 0.8372 - accuracy: 0.6805\n",
      "Epoch 20/50\n",
      "3125/3125 [==============================] - 38s 12ms/step - loss: 0.8317 - accuracy: 0.6819\n",
      "Epoch 21/50\n",
      "3125/3125 [==============================] - 37s 12ms/step - loss: 0.8293 - accuracy: 0.6835\n",
      "Epoch 22/50\n",
      "3125/3125 [==============================] - 38s 12ms/step - loss: 0.8251 - accuracy: 0.6840\n",
      "Epoch 23/50\n",
      "3125/3125 [==============================] - 37s 12ms/step - loss: 0.8204 - accuracy: 0.6866\n",
      "Epoch 24/50\n",
      "3125/3125 [==============================] - 36s 12ms/step - loss: 0.8166 - accuracy: 0.6886\n",
      "Epoch 25/50\n",
      "3125/3125 [==============================] - 36s 12ms/step - loss: 0.8143 - accuracy: 0.6891\n",
      "Epoch 26/50\n",
      "3125/3125 [==============================] - 37s 12ms/step - loss: 0.8106 - accuracy: 0.6908\n",
      "Epoch 27/50\n",
      "3125/3125 [==============================] - 37s 12ms/step - loss: 0.8068 - accuracy: 0.6912\n",
      "Epoch 28/50\n",
      "3125/3125 [==============================] - 37s 12ms/step - loss: 0.8037 - accuracy: 0.6929\n",
      "Epoch 29/50\n",
      "3125/3125 [==============================] - 37s 12ms/step - loss: 0.8013 - accuracy: 0.6933\n",
      "Epoch 30/50\n",
      "3125/3125 [==============================] - 37s 12ms/step - loss: 0.7986 - accuracy: 0.6945\n",
      "Epoch 31/50\n",
      "3125/3125 [==============================] - 37s 12ms/step - loss: 0.7968 - accuracy: 0.6957\n",
      "Epoch 32/50\n",
      "3125/3125 [==============================] - 37s 12ms/step - loss: 0.7918 - accuracy: 0.6968\n",
      "Epoch 33/50\n",
      "3125/3125 [==============================] - 37s 12ms/step - loss: 0.7895 - accuracy: 0.6975\n",
      "Epoch 34/50\n",
      "3125/3125 [==============================] - 37s 12ms/step - loss: 0.7867 - accuracy: 0.6981\n",
      "Epoch 35/50\n",
      "3125/3125 [==============================] - 37s 12ms/step - loss: 0.7836 - accuracy: 0.7007\n",
      "Epoch 36/50\n",
      "3125/3125 [==============================] - 37s 12ms/step - loss: 0.7823 - accuracy: 0.6998\n",
      "Epoch 37/50\n",
      "3125/3125 [==============================] - 37s 12ms/step - loss: 0.7793 - accuracy: 0.7022\n",
      "Epoch 38/50\n",
      "3125/3125 [==============================] - 37s 12ms/step - loss: 0.7770 - accuracy: 0.7032\n",
      "Epoch 39/50\n",
      "3125/3125 [==============================] - 38s 12ms/step - loss: 0.7736 - accuracy: 0.7031\n",
      "Epoch 40/50\n",
      "3125/3125 [==============================] - 39s 12ms/step - loss: 0.7715 - accuracy: 0.7045\n",
      "Epoch 41/50\n",
      "3125/3125 [==============================] - 39s 12ms/step - loss: 0.7680 - accuracy: 0.7059\n",
      "Epoch 42/50\n",
      "3125/3125 [==============================] - 39s 13ms/step - loss: 0.7667 - accuracy: 0.7065\n",
      "Epoch 43/50\n",
      "3125/3125 [==============================] - 40s 13ms/step - loss: 0.7644 - accuracy: 0.7064\n",
      "Epoch 44/50\n",
      "3125/3125 [==============================] - 44s 14ms/step - loss: 0.7613 - accuracy: 0.7079\n",
      "Epoch 45/50\n",
      "3125/3125 [==============================] - 40s 13ms/step - loss: 0.7606 - accuracy: 0.7092\n",
      "Epoch 46/50\n",
      "3125/3125 [==============================] - 41s 13ms/step - loss: 0.7577 - accuracy: 0.7095\n",
      "Epoch 47/50\n",
      "3125/3125 [==============================] - 41s 13ms/step - loss: 0.7551 - accuracy: 0.7097\n",
      "Epoch 48/50\n",
      "3125/3125 [==============================] - 41s 13ms/step - loss: 0.7538 - accuracy: 0.7110\n",
      "Epoch 49/50\n",
      "3125/3125 [==============================] - 41s 13ms/step - loss: 0.7522 - accuracy: 0.7117\n",
      "Epoch 50/50\n",
      "3125/3125 [==============================] - 41s 13ms/step - loss: 0.7496 - accuracy: 0.7131\n"
     ]
    }
   ],
   "source": [
    "from tensorflow.keras.layers import Dense, LSTM, Dropout\n",
    "from tensorflow.keras.models import Model\n",
    "from tensorflow.keras.models import Sequential\n",
    "\n",
    "model = Sequential()\n",
    "model.add(LSTM(32))\n",
    "model.add(Dropout(0.2))\n",
    "model.add(Dense(20, activation='relu'))\n",
    "model.add(Dense(5, activation='softmax'))\n",
    "model.compile(loss='categorical_crossentropy',\n",
    "              optimizer='adam',\n",
    "              metrics=['accuracy'])\n",
    "history=model.fit(trainX, trainY,epochs=50)"
   ]
  },
  {
   "cell_type": "code",
   "execution_count": 89,
   "metadata": {},
   "outputs": [
    {
     "name": "stdout",
     "output_type": "stream",
     "text": [
      "313/313 [==============================] - 3s 7ms/step\n"
     ]
    }
   ],
   "source": [
    "testX,testY = getXY(test.sample(10000))\n",
    "acc = model.predict(testX)"
   ]
  },
  {
   "cell_type": "code",
   "execution_count": 90,
   "metadata": {},
   "outputs": [],
   "source": [
    "def convert_back_rating(ratings):\n",
    "    return np.array([np.argmax(i)+1 for i in ratings.tolist()])"
   ]
  },
  {
   "cell_type": "code",
   "execution_count": 91,
   "metadata": {},
   "outputs": [],
   "source": [
    "pred = convert_back_rating(acc)\n",
    "actual = convert_back_rating(testY)"
   ]
  },
  {
   "cell_type": "code",
   "execution_count": 92,
   "metadata": {},
   "outputs": [
    {
     "name": "stdout",
     "output_type": "stream",
     "text": [
      "RMSE for ratings prediction using LSTM is 1.1396051947933548\n",
      "MSE for ratings prediction using LSTM is 1.2987\n",
      "Accuracy of rating predictions using LSTM is 0.6727\n"
     ]
    }
   ],
   "source": [
    "print(\"RMSE for ratings prediction using LSTM is {}\".format(RMSE(pred,actual)))\n",
    "print(\"MSE for ratings prediction using LSTM is {}\".format(MSE(pred,actual)))\n",
    "print(\"Accuracy of rating predictions using LSTM is {}\".format(np.mean(pred==actual)))"
   ]
  },
  {
   "cell_type": "markdown",
   "metadata": {},
   "source": [
    "As we can see, the MSE and RMSE is even no better than the baseline model with basic TFIDF with logistic regression. However, the classification accuracy is substantially better, this is because we train the classifier with categorical_crossentropy, which means that we purely treat the ratings with no numerical meaning. We just care about whether the prediction ratings is the same number as actual ratings. "
   ]
  },
  {
   "cell_type": "code",
   "execution_count": null,
   "metadata": {},
   "outputs": [],
   "source": []
  }
 ],
 "metadata": {
  "kernelspec": {
   "display_name": "Python 3 (ipykernel)",
   "language": "python",
   "name": "python3"
  },
  "language_info": {
   "codemirror_mode": {
    "name": "ipython",
    "version": 3
   },
   "file_extension": ".py",
   "mimetype": "text/x-python",
   "name": "python",
   "nbconvert_exporter": "python",
   "pygments_lexer": "ipython3",
   "version": "3.9.13"
  },
  "vscode": {
   "interpreter": {
    "hash": "c57066ad57f4f2e7e0a722ee8ce52ec5eba8ed49ccafb3ffebd9bb1a46f4742f"
   }
  }
 },
 "nbformat": 4,
 "nbformat_minor": 2
}
